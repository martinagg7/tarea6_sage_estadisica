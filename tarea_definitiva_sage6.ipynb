{
 "cells": [
  {
   "cell_type": "code",
   "execution_count": 1,
   "metadata": {},
   "outputs": [
    {
     "name": "stdout",
     "output_type": "stream",
     "text": [
      "-101/50\n"
     ]
    }
   ],
   "source": [
    "#1\n",
    "from random import randint\n",
    "n=[randint(-100,100) for i in range(100)] #escogemos los 100 numeros aleatorios\n",
    "media=mean(n)\n",
    "print(media)"
   ]
  },
  {
   "cell_type": "code",
   "execution_count": 8,
   "metadata": {},
   "outputs": [
    {
     "name": "stdout",
     "output_type": "stream",
     "text": [
      "Esta es la media:  65.6250000000000\n",
      "Esta es la moda:  [61, 73]\n",
      "Esta es la mediana:  63.5000000000000\n"
     ]
    }
   ],
   "source": [
    "#2\n",
    "#Para calular la media,moda,mediana empleamos :mode(),mean(),median()\n",
    "\n",
    "alturas_estudiantes=[71, 73, 59, 62, 65, 61, 73, 61]\n",
    "media=mean(alturas_estudiantes).n()\n",
    "moda=mode(alturas_estudiantes)\n",
    "mediana=median(alturas_estudiantes).n()\n",
    "print('Esta es la media: ',media)\n",
    "print('Esta es la moda: ',moda)\n",
    "print('Esta es la mediana: ',mediana)"
   ]
  },
  {
   "cell_type": "code",
   "execution_count": 20,
   "metadata": {},
   "outputs": [
    {
     "name": "stdout",
     "output_type": "stream",
     "text": [
      "Esta es la desviacion tipica 5.82942045636981\n",
      "Esta es la varianza: 33.9821428571429\n"
     ]
    }
   ],
   "source": [
    "#3\n",
    "#Para calcular la desviacion tipica y la varianza empleamos:std() y var()\n",
    "altura=[71, 73, 59, 62, 65, 61, 73, 61]\n",
    "desviacion_tipica=std(altura).n()\n",
    "print('Esta es la desviacion tipica',desviacion_tipica)\n",
    "varianza=variance(alturas).n()\n",
    "print('Esta es la varianza:',varianza)\n",
    "\n"
   ]
  },
  {
   "cell_type": "code",
   "execution_count": 26,
   "metadata": {},
   "outputs": [
    {
     "name": "stdout",
     "output_type": "stream",
     "text": [
      "Rango: 14\n"
     ]
    }
   ],
   "source": [
    "#4\n",
    "altura=[71, 73, 59, 62, 65, 61, 73, 61]\n",
    "def rango(altura):\n",
    "    return max(altura)-min(altura)\n",
    "print('Rango:',rango(altura))"
   ]
  }
 ],
 "metadata": {
  "kernelspec": {
   "display_name": "SageMath 9.3",
   "language": "sage",
   "name": "sagemath"
  },
  "language_info": {
   "codemirror_mode": {
    "name": "ipython",
    "version": 3
   },
   "file_extension": ".py",
   "mimetype": "text/x-python",
   "name": "python",
   "nbconvert_exporter": "python",
   "pygments_lexer": "ipython3",
   "version": "3.7.10"
  }
 },
 "nbformat": 4,
 "nbformat_minor": 4
}
